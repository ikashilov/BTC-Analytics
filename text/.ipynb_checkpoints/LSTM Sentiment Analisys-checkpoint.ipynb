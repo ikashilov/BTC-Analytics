{
 "cells": [
  {
   "cell_type": "markdown",
   "metadata": {},
   "source": [
    "## Pre trained LSTM sentiment analizer"
   ]
  },
  {
   "cell_type": "code",
   "execution_count": 1,
   "metadata": {},
   "outputs": [],
   "source": [
    "# pip3 install flair\n",
    "# Attention ~1 GB Disk space"
   ]
  },
  {
   "cell_type": "code",
   "execution_count": 3,
   "metadata": {},
   "outputs": [
    {
     "data": {
      "text/html": [
       "<div>\n",
       "<style scoped>\n",
       "    .dataframe tbody tr th:only-of-type {\n",
       "        vertical-align: middle;\n",
       "    }\n",
       "\n",
       "    .dataframe tbody tr th {\n",
       "        vertical-align: top;\n",
       "    }\n",
       "\n",
       "    .dataframe thead th {\n",
       "        text-align: right;\n",
       "    }\n",
       "</style>\n",
       "<table border=\"1\" class=\"dataframe\">\n",
       "  <thead>\n",
       "    <tr style=\"text-align: right;\">\n",
       "      <th></th>\n",
       "      <th>date</th>\n",
       "      <th>text</th>\n",
       "      <th>likes</th>\n",
       "      <th>retweets</th>\n",
       "      <th>cleaned_text</th>\n",
       "    </tr>\n",
       "  </thead>\n",
       "  <tbody>\n",
       "    <tr>\n",
       "      <th>0</th>\n",
       "      <td>2018-12-01 15:13:48</td>\n",
       "      <td>Mainstream media is screaming that \\xe2\\x80\\x9...</td>\n",
       "      <td>373</td>\n",
       "      <td>106</td>\n",
       "      <td>mainstream media scream bitcoin dead twitter t...</td>\n",
       "    </tr>\n",
       "    <tr>\n",
       "      <th>1</th>\n",
       "      <td>2018-12-01 22:59:36</td>\n",
       "      <td>My friends had no problem buying #bitcoin at $...</td>\n",
       "      <td>684</td>\n",
       "      <td>101</td>\n",
       "      <td>friend problem buy bitcoin $7k way $20k panic ...</td>\n",
       "    </tr>\n",
       "    <tr>\n",
       "      <th>2</th>\n",
       "      <td>2018-12-01 15:19:30</td>\n",
       "      <td>If you pay your Ohio taxes using #bitcoin then...</td>\n",
       "      <td>518</td>\n",
       "      <td>52</td>\n",
       "      <td>pay ohio tax use bitcoin owe even tax btc incr...</td>\n",
       "    </tr>\n",
       "    <tr>\n",
       "      <th>3</th>\n",
       "      <td>2018-12-01 18:57:06</td>\n",
       "      <td>Bearableguy123 screen shot on #Reddit \\n\\nBina...</td>\n",
       "      <td>100</td>\n",
       "      <td>39</td>\n",
       "      <td>bearableguy123 screen shot reddit binari code ...</td>\n",
       "    </tr>\n",
       "    <tr>\n",
       "      <th>4</th>\n",
       "      <td>2018-12-01 13:57:04</td>\n",
       "      <td>$BTC $BTCUSD #Bitcoin \\n\\nBulls taking profit ...</td>\n",
       "      <td>66</td>\n",
       "      <td>8</td>\n",
       "      <td>$btc $btcusd bitcoin bull take profit everi sm...</td>\n",
       "    </tr>\n",
       "  </tbody>\n",
       "</table>\n",
       "</div>"
      ],
      "text/plain": [
       "                  date                                               text  \\\n",
       "0  2018-12-01 15:13:48  Mainstream media is screaming that \\xe2\\x80\\x9...   \n",
       "1  2018-12-01 22:59:36  My friends had no problem buying #bitcoin at $...   \n",
       "2  2018-12-01 15:19:30  If you pay your Ohio taxes using #bitcoin then...   \n",
       "3  2018-12-01 18:57:06  Bearableguy123 screen shot on #Reddit \\n\\nBina...   \n",
       "4  2018-12-01 13:57:04  $BTC $BTCUSD #Bitcoin \\n\\nBulls taking profit ...   \n",
       "\n",
       "   likes  retweets                                       cleaned_text  \n",
       "0    373       106  mainstream media scream bitcoin dead twitter t...  \n",
       "1    684       101  friend problem buy bitcoin $7k way $20k panic ...  \n",
       "2    518        52  pay ohio tax use bitcoin owe even tax btc incr...  \n",
       "3    100        39  bearableguy123 screen shot reddit binari code ...  \n",
       "4     66         8  $btc $btcusd bitcoin bull take profit everi sm...  "
      ]
     },
     "execution_count": 3,
     "metadata": {},
     "output_type": "execute_result"
    }
   ],
   "source": [
    "import re\n",
    "import numpy as np\n",
    "import pandas as pd\n",
    "import seaborn as sns\n",
    "import matplotlib.pyplot as plt\n",
    "\n",
    "sns.set()\n",
    "np.random.seed(0)\n",
    "\n",
    "FNAME = \"./data/btc_year_full.csv\"\n",
    "\n",
    "dataset = pd.read_csv(re.sub('.csv','_cleaned.csv', FNAME))\n",
    "dataset.head()"
   ]
  },
  {
   "cell_type": "code",
   "execution_count": 4,
   "metadata": {},
   "outputs": [
    {
     "name": "stdout",
     "output_type": "stream",
     "text": [
      "2019-12-08 06:13:20,570 loading file /home/hans/.flair/models/imdb-v0.4.pt\n"
     ]
    }
   ],
   "source": [
    "import flair\n",
    "# Downloading can take 10 min\n",
    "# Attention ~ 2Gb memory\n",
    "flair_sentiment = flair.models.TextClassifier.load('en-sentiment')"
   ]
  },
  {
   "cell_type": "markdown",
   "metadata": {},
   "source": [
    "*Example*"
   ]
  },
  {
   "cell_type": "code",
   "execution_count": 5,
   "metadata": {},
   "outputs": [
    {
     "data": {
      "text/plain": [
       "[POSITIVE (0.9937134385108948)]"
      ]
     },
     "execution_count": 5,
     "metadata": {},
     "output_type": "execute_result"
    }
   ],
   "source": [
    "sentence = 'I hate you very much, but sometimes I love lollipops'\n",
    "s = flair.data.Sentence(sentence)\n",
    "flair_sentiment.predict(s)\n",
    "total_sentiment = s.labels\n",
    "total_sentiment"
   ]
  },
  {
   "cell_type": "code",
   "execution_count": 6,
   "metadata": {},
   "outputs": [],
   "source": [
    "def findpolarity(sentence):\n",
    "    s = flair.data.Sentence(sentence)\n",
    "    flair_sentiment.predict(s)\n",
    "    \n",
    "    if 'POSITIVE' in str(s.labels):  \n",
    "        sentiment = 1\n",
    "    elif 'NEGATIVE' in str(s.labels):\n",
    "        sentiment = -1 \n",
    "    else: # No NEUTRALITY ?\n",
    "        sentiment = 0\n",
    "        \n",
    "    return sentiment"
   ]
  },
  {
   "cell_type": "markdown",
   "metadata": {},
   "source": [
    "*Example*"
   ]
  },
  {
   "cell_type": "code",
   "execution_count": 8,
   "metadata": {},
   "outputs": [
    {
     "name": "stdout",
     "output_type": "stream",
     "text": [
      "Raw: \n",
      "Tweet:  I\\'m really, really excited for this release! Go @Get_Scatter ! #eos #blockchain #wallet #bitcoin #btc #scatterhttps://twitter.com/Get_Scatter/status/1142947586350993408 \\xe2\\x80\\xa6\n",
      "Polarity:  1\n",
      "\n",
      "Cleaned: \n",
      "Tweet:  realli realli excit releas go scatter eo blockchain wallet bitcoin btc scatter scatter statu 1142947586350993408\n",
      "Polarity:  1\n"
     ]
    }
   ],
   "source": [
    "raw_tweets = dataset['text']\n",
    "cleaned_tweets = dataset['cleaned_text']\n",
    "idx = np.random.randint(0, len(raw_tweets))\n",
    "\n",
    "print(\"Raw: \")\n",
    "print(\"Tweet: \", raw_tweets[idx])\n",
    "print(\"Polarity: \", findpolarity(raw_tweets[idx]))\n",
    "print()\n",
    "print(\"Cleaned: \")\n",
    "print(\"Tweet: \", cleaned_tweets[idx])\n",
    "print(\"Polarity: \", findpolarity(cleaned_tweets[idx]))"
   ]
  },
  {
   "cell_type": "code",
   "execution_count": null,
   "metadata": {},
   "outputs": [
    {
     "name": "stderr",
     "output_type": "stream",
     "text": [
      "  0%|          | 8/38266 [00:35<50:57:46,  4.80s/it]"
     ]
    }
   ],
   "source": [
    "from tqdm import tqdm\n",
    "\n",
    "sentiment_cleaned = []\n",
    "sentiment_raw = []\n",
    "for i in tqdm(range(0, len(cleaned_tweets))):\n",
    "    sentiment_cleaned.append(findpolarity(cleaned_tweets[i]))\n",
    "    sentiment_raw.append(findpolarity(raw_tweets[i]))"
   ]
  },
  {
   "cell_type": "markdown",
   "metadata": {},
   "source": [
    "## Endless executable time -> run on google colab"
   ]
  },
  {
   "cell_type": "code",
   "execution_count": 35,
   "metadata": {},
   "outputs": [
    {
     "name": "stdout",
     "output_type": "stream",
     "text": [
      "Total 7 sentiments ain't equal from 20. The ratio is: 0.35\n"
     ]
    }
   ],
   "source": [
    "assert len(cleaned_tweets) == len(dataset['text'])\n",
    "_n = len(raw_tweets)\n",
    "_s = 0\n",
    "for i in range(_n):\n",
    "    if sentiment_cleaned[i] != sentiment_raw[i]:\n",
    "        _s+=1\n",
    "print(\"Total {} sentiments ain't equal from {}. The ratio is: {}\".format(_s, _n, round(_s/_n, 3)))"
   ]
  },
  {
   "cell_type": "code",
   "execution_count": 36,
   "metadata": {},
   "outputs": [
    {
     "data": {
      "text/html": [
       "<div>\n",
       "<style scoped>\n",
       "    .dataframe tbody tr th:only-of-type {\n",
       "        vertical-align: middle;\n",
       "    }\n",
       "\n",
       "    .dataframe tbody tr th {\n",
       "        vertical-align: top;\n",
       "    }\n",
       "\n",
       "    .dataframe thead th {\n",
       "        text-align: right;\n",
       "    }\n",
       "</style>\n",
       "<table border=\"1\" class=\"dataframe\">\n",
       "  <thead>\n",
       "    <tr style=\"text-align: right;\">\n",
       "      <th></th>\n",
       "      <th>date</th>\n",
       "      <th>text</th>\n",
       "      <th>likes</th>\n",
       "      <th>retweets</th>\n",
       "      <th>cleaned_text</th>\n",
       "      <th>sentiment_cl</th>\n",
       "      <th>sentiment_raw</th>\n",
       "    </tr>\n",
       "  </thead>\n",
       "  <tbody>\n",
       "    <tr>\n",
       "      <th>0</th>\n",
       "      <td>2019-11-29 03:12:48</td>\n",
       "      <td>I will #giveaway $30  in #Bitcoin to someone r...</td>\n",
       "      <td>430</td>\n",
       "      <td>297</td>\n",
       "      <td>giveaway $30 bitcoin someon random follow like...</td>\n",
       "      <td>-1</td>\n",
       "      <td>1</td>\n",
       "    </tr>\n",
       "    <tr>\n",
       "      <th>1</th>\n",
       "      <td>2019-11-29 08:46:47</td>\n",
       "      <td>$100 #Bitcoin #Crypto #Giveaway\\nONE PERSON GE...</td>\n",
       "      <td>1282</td>\n",
       "      <td>1208</td>\n",
       "      <td>$100 bitcoin crypto giveaway one person get $1...</td>\n",
       "      <td>-1</td>\n",
       "      <td>-1</td>\n",
       "    </tr>\n",
       "    <tr>\n",
       "      <th>2</th>\n",
       "      <td>2019-11-30 17:38:14</td>\n",
       "      <td>Announcement CODEO TOKEN for Bounty Program Pa...</td>\n",
       "      <td>57</td>\n",
       "      <td>15</td>\n",
       "      <td>announc codeo token bounti program particip co...</td>\n",
       "      <td>1</td>\n",
       "      <td>-1</td>\n",
       "    </tr>\n",
       "    <tr>\n",
       "      <th>3</th>\n",
       "      <td>2019-11-30 09:35:44</td>\n",
       "      <td>I will #Giveaway $100 #bitcoin to 2 people ran...</td>\n",
       "      <td>513</td>\n",
       "      <td>470</td>\n",
       "      <td>giveaway $100 bitcoin 2 peopl randomli $50 fol...</td>\n",
       "      <td>-1</td>\n",
       "      <td>-1</td>\n",
       "    </tr>\n",
       "    <tr>\n",
       "      <th>4</th>\n",
       "      <td>2019-11-30 03:02:32</td>\n",
       "      <td>“Bitcoin is shining now when we are worried ab...</td>\n",
       "      <td>13</td>\n",
       "      <td>7</td>\n",
       "      <td>bitcoin shine worri world amal amanpuri btc</td>\n",
       "      <td>1</td>\n",
       "      <td>1</td>\n",
       "    </tr>\n",
       "  </tbody>\n",
       "</table>\n",
       "</div>"
      ],
      "text/plain": [
       "                  date                                               text  \\\n",
       "0  2019-11-29 03:12:48  I will #giveaway $30  in #Bitcoin to someone r...   \n",
       "1  2019-11-29 08:46:47  $100 #Bitcoin #Crypto #Giveaway\\nONE PERSON GE...   \n",
       "2  2019-11-30 17:38:14  Announcement CODEO TOKEN for Bounty Program Pa...   \n",
       "3  2019-11-30 09:35:44  I will #Giveaway $100 #bitcoin to 2 people ran...   \n",
       "4  2019-11-30 03:02:32  “Bitcoin is shining now when we are worried ab...   \n",
       "\n",
       "   likes  retweets                                       cleaned_text  \\\n",
       "0    430       297  giveaway $30 bitcoin someon random follow like...   \n",
       "1   1282      1208  $100 bitcoin crypto giveaway one person get $1...   \n",
       "2     57        15  announc codeo token bounti program particip co...   \n",
       "3    513       470  giveaway $100 bitcoin 2 peopl randomli $50 fol...   \n",
       "4     13         7        bitcoin shine worri world amal amanpuri btc   \n",
       "\n",
       "   sentiment_cl  sentiment_raw  \n",
       "0            -1              1  \n",
       "1            -1             -1  \n",
       "2             1             -1  \n",
       "3            -1             -1  \n",
       "4             1              1  "
      ]
     },
     "execution_count": 36,
     "metadata": {},
     "output_type": "execute_result"
    }
   ],
   "source": [
    "dataset['sentiment_cl'] = sentiment_cleaned\n",
    "dataset['sentiment_raw'] = sentiment_raw\n",
    "dataset.to_csv(re.sub('.csv','_sentiments_LSTM.csv',FNAME), header=True, index=False, encoding='utf-8')\n",
    "dataset.head()"
   ]
  }
 ],
 "metadata": {
  "kernelspec": {
   "display_name": "Python 3",
   "language": "python",
   "name": "python3"
  },
  "language_info": {
   "codemirror_mode": {
    "name": "ipython",
    "version": 3
   },
   "file_extension": ".py",
   "mimetype": "text/x-python",
   "name": "python",
   "nbconvert_exporter": "python",
   "pygments_lexer": "ipython3",
   "version": "3.7.3rc1"
  }
 },
 "nbformat": 4,
 "nbformat_minor": 2
}
