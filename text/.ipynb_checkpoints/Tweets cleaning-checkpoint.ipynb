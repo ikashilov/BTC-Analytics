{
 "cells": [
  {
   "cell_type": "markdown",
   "metadata": {},
   "source": [
    "## Cleaning the financial tweets\n"
   ]
  },
  {
   "cell_type": "code",
   "execution_count": 1,
   "metadata": {},
   "outputs": [
    {
     "data": {
      "text/html": [
       "<div>\n",
       "<style scoped>\n",
       "    .dataframe tbody tr th:only-of-type {\n",
       "        vertical-align: middle;\n",
       "    }\n",
       "\n",
       "    .dataframe tbody tr th {\n",
       "        vertical-align: top;\n",
       "    }\n",
       "\n",
       "    .dataframe thead th {\n",
       "        text-align: right;\n",
       "    }\n",
       "</style>\n",
       "<table border=\"1\" class=\"dataframe\">\n",
       "  <thead>\n",
       "    <tr style=\"text-align: right;\">\n",
       "      <th></th>\n",
       "      <th>date</th>\n",
       "      <th>text</th>\n",
       "      <th>likes</th>\n",
       "      <th>retweets</th>\n",
       "    </tr>\n",
       "  </thead>\n",
       "  <tbody>\n",
       "    <tr>\n",
       "      <th>0</th>\n",
       "      <td>2018-12-01 15:13:48</td>\n",
       "      <td>Mainstream media is screaming that \\xe2\\x80\\x9...</td>\n",
       "      <td>373</td>\n",
       "      <td>106</td>\n",
       "    </tr>\n",
       "    <tr>\n",
       "      <th>1</th>\n",
       "      <td>2018-12-01 22:59:36</td>\n",
       "      <td>My friends had no problem buying #bitcoin at $...</td>\n",
       "      <td>684</td>\n",
       "      <td>101</td>\n",
       "    </tr>\n",
       "    <tr>\n",
       "      <th>2</th>\n",
       "      <td>2018-12-01 15:19:30</td>\n",
       "      <td>If you pay your Ohio taxes using #bitcoin then...</td>\n",
       "      <td>518</td>\n",
       "      <td>52</td>\n",
       "    </tr>\n",
       "    <tr>\n",
       "      <th>3</th>\n",
       "      <td>2018-12-01 18:57:06</td>\n",
       "      <td>Bearableguy123 screen shot on #Reddit \\n\\nBina...</td>\n",
       "      <td>100</td>\n",
       "      <td>39</td>\n",
       "    </tr>\n",
       "    <tr>\n",
       "      <th>4</th>\n",
       "      <td>2018-12-01 13:57:04</td>\n",
       "      <td>$BTC $BTCUSD #Bitcoin \\n\\nBulls taking profit ...</td>\n",
       "      <td>66</td>\n",
       "      <td>8</td>\n",
       "    </tr>\n",
       "  </tbody>\n",
       "</table>\n",
       "</div>"
      ],
      "text/plain": [
       "                  date                                               text  \\\n",
       "0  2018-12-01 15:13:48  Mainstream media is screaming that \\xe2\\x80\\x9...   \n",
       "1  2018-12-01 22:59:36  My friends had no problem buying #bitcoin at $...   \n",
       "2  2018-12-01 15:19:30  If you pay your Ohio taxes using #bitcoin then...   \n",
       "3  2018-12-01 18:57:06  Bearableguy123 screen shot on #Reddit \\n\\nBina...   \n",
       "4  2018-12-01 13:57:04  $BTC $BTCUSD #Bitcoin \\n\\nBulls taking profit ...   \n",
       "\n",
       "   likes  retweets  \n",
       "0    373       106  \n",
       "1    684       101  \n",
       "2    518        52  \n",
       "3    100        39  \n",
       "4     66         8  "
      ]
     },
     "execution_count": 1,
     "metadata": {},
     "output_type": "execute_result"
    }
   ],
   "source": [
    "import numpy as np\n",
    "import pandas as pd\n",
    "import seaborn as sns\n",
    "import matplotlib.pyplot as plt\n",
    "\n",
    "sns.set()\n",
    "np.random.seed(0)\n",
    "\n",
    "FNAME = \"./data/btc_year_full.csv\"\n",
    "\n",
    "dataset = pd.read_csv(FNAME)\n",
    "dataset.head()"
   ]
  },
  {
   "cell_type": "code",
   "execution_count": 2,
   "metadata": {},
   "outputs": [
    {
     "data": {
      "text/plain": [
       "date        0\n",
       "text        0\n",
       "likes       0\n",
       "retweets    0\n",
       "dtype: int64"
      ]
     },
     "execution_count": 2,
     "metadata": {},
     "output_type": "execute_result"
    }
   ],
   "source": [
    "dataset.isnull().sum()"
   ]
  },
  {
   "cell_type": "code",
   "execution_count": 3,
   "metadata": {},
   "outputs": [
    {
     "data": {
      "text/html": [
       "<div>\n",
       "<style scoped>\n",
       "    .dataframe tbody tr th:only-of-type {\n",
       "        vertical-align: middle;\n",
       "    }\n",
       "\n",
       "    .dataframe tbody tr th {\n",
       "        vertical-align: top;\n",
       "    }\n",
       "\n",
       "    .dataframe thead th {\n",
       "        text-align: right;\n",
       "    }\n",
       "</style>\n",
       "<table border=\"1\" class=\"dataframe\">\n",
       "  <thead>\n",
       "    <tr style=\"text-align: right;\">\n",
       "      <th></th>\n",
       "      <th>likes</th>\n",
       "      <th>retweets</th>\n",
       "    </tr>\n",
       "  </thead>\n",
       "  <tbody>\n",
       "    <tr>\n",
       "      <th>count</th>\n",
       "      <td>38266.000000</td>\n",
       "      <td>38266.000000</td>\n",
       "    </tr>\n",
       "    <tr>\n",
       "      <th>mean</th>\n",
       "      <td>26.330293</td>\n",
       "      <td>9.237600</td>\n",
       "    </tr>\n",
       "    <tr>\n",
       "      <th>std</th>\n",
       "      <td>111.684119</td>\n",
       "      <td>58.673785</td>\n",
       "    </tr>\n",
       "    <tr>\n",
       "      <th>min</th>\n",
       "      <td>0.000000</td>\n",
       "      <td>0.000000</td>\n",
       "    </tr>\n",
       "    <tr>\n",
       "      <th>25%</th>\n",
       "      <td>1.000000</td>\n",
       "      <td>0.000000</td>\n",
       "    </tr>\n",
       "    <tr>\n",
       "      <th>50%</th>\n",
       "      <td>3.000000</td>\n",
       "      <td>1.000000</td>\n",
       "    </tr>\n",
       "    <tr>\n",
       "      <th>75%</th>\n",
       "      <td>14.000000</td>\n",
       "      <td>4.000000</td>\n",
       "    </tr>\n",
       "    <tr>\n",
       "      <th>max</th>\n",
       "      <td>5368.000000</td>\n",
       "      <td>5316.000000</td>\n",
       "    </tr>\n",
       "  </tbody>\n",
       "</table>\n",
       "</div>"
      ],
      "text/plain": [
       "              likes      retweets\n",
       "count  38266.000000  38266.000000\n",
       "mean      26.330293      9.237600\n",
       "std      111.684119     58.673785\n",
       "min        0.000000      0.000000\n",
       "25%        1.000000      0.000000\n",
       "50%        3.000000      1.000000\n",
       "75%       14.000000      4.000000\n",
       "max     5368.000000   5316.000000"
      ]
     },
     "execution_count": 3,
     "metadata": {},
     "output_type": "execute_result"
    }
   ],
   "source": [
    "dataset.describe()"
   ]
  },
  {
   "cell_type": "markdown",
   "metadata": {},
   "source": [
    "**Number of likes per tweet in pretty plot**"
   ]
  },
  {
   "cell_type": "code",
   "execution_count": 4,
   "metadata": {},
   "outputs": [
    {
     "data": {
      "image/png": "[encoded data removed]",
      "text/plain": [
       "<Figure size 1080x432 with 1 Axes>"
      ]
     },
     "metadata": {
      "needs_background": "light"
     },
     "output_type": "display_data"
    }
   ],
   "source": [
    "plt.figure(figsize=(15,6))\n",
    "dataset['likes'].value_counts()[:10].plot(kind='barh',color=sns.color_palette('summer',30))\n",
    "plt.title('Top 10 most liked tweets')\n",
    "plt.show()"
   ]
  },
  {
   "cell_type": "markdown",
   "metadata": {},
   "source": [
    "Most of the tweets have low number of likes..."
   ]
  },
  {
   "cell_type": "markdown",
   "metadata": {},
   "source": [
    "## Filter unpopular tweets?"
   ]
  },
  {
   "cell_type": "markdown",
   "metadata": {},
   "source": [
    "****Cleaning the Tweets****"
   ]
  },
  {
   "cell_type": "code",
   "execution_count": 5,
   "metadata": {},
   "outputs": [],
   "source": [
    "import re\n",
    "\n",
    "pat0 = r'\\\\(n|x..)'                # remove all unicode and emoji\n",
    "pat1 = r'@[A-Za-z0-9]+'            # remove any text with @ (links)\n",
    "comb1 = r'|'.join((pat0, pat1))\n",
    "pat2 = r'https?://[A-Za-z0-9./]+'  # remove all urls\n",
    "     # r'^https?:\\/\\/.*[\\r\\n]*'\n",
    "comb2 = r'|'.join((comb1, pat2))\n",
    "pat3 = r'[^a-zA-Z0-9$]'            # remove every other character except a-z & 0-9 & $\n",
    "comb3 = r'|'.join((comb2, pat3))"
   ]
  },
  {
   "cell_type": "markdown",
   "metadata": {},
   "source": [
    "*Example for testing the text cleaning*"
   ]
  },
  {
   "cell_type": "code",
   "execution_count": 6,
   "metadata": {},
   "outputs": [
    {
     "name": "stdout",
     "output_type": "stream",
     "text": [
      "5000 TRX up for grabs!5 People to share 5000 TRX!How to participate:1. Retweet and like this tweet2. Follow @btcspeaks 3. RT @btcspeakspinned tweet4. Tag 5 friendsWinners announced in 3 days!!#bitcoin #btc #eth #ethereum #airdrop #bounty #blockchain #xrp #trx\n",
      "\n",
      "\n",
      "5000 trx up for grabs   5 people to share 5000 trx   how to participate  1  retweet and like this tweet 2  follow    3  rt   pinned tweet 4  tag 5 friends  winners announced in 3 days     bitcoin  btc  eth  ethereum  airdrop  bounty  blockchain  xrp  trx\n",
      "Apollo FactsA dose of Apollo facts you did and didn\\'t know!Fact #80 #MassAdoptionWhat\\'s Next? #apollonauts #apl #bitcoin #btc #cryptocurrencypic.twitter.com/0S9BeCakti\n",
      "\n",
      "\n",
      "apollo facts a dose of apollo facts you did and didn  t know   fact  80  massadoption  what  s next   apollonauts    apl  bitcoin  btc  cryptocurrencypic twitter com 0s9becakti\n",
      "Get $10 worth of AMAL!!This campaign will be final AirDrop before official release!!https://form.run/@airdrop-e RT please!#amanpuri #AMAL#BTC #XRP #ETH #cryptocurrency  #China #bitcoin #\n",
      "\n",
      "\n",
      "get $10 worth of amal   this campaign will be final airdrop before official release      e   rt please    amanpuri  amal  btc  xrp  eth   cryptocurrency    china  bitcoin                  \n"
     ]
    }
   ],
   "source": [
    "s = ['5000 TRX up for grabs!\\\\n\\\\n5 People to share 5000 TRX!\\\\n\\\\nHow to participate:\\\\n1. Retweet and like this tweet\\\\n2. Follow @btcspeaks \\\\n3. RT @btcspeaks\\\\npinned tweet\\\\n4. Tag 5 friends\\\\n\\\\nWinners announced in 3 days!!\\\\n\\\\n#bitcoin #btc #eth #ethereum #airdrop #bounty #blockchain #xrp #trx',\n",
    "     \"Apollo Facts\\\\nA dose of Apollo facts you did and didn\\\\'t know!\\\\n\\\\nFact #80 #MassAdoption\\\\n\\\\nWhat\\\\'s Next? #apollonauts\\\\n \\\\n#apl #bitcoin #btc #cryptocurrencypic.twitter.com/0S9BeCakti\",\n",
    "     \"Get $10 worth of AMAL!!\\\\nThis campaign will be final AirDrop before official release!!\\\\nhttps://form.run/@airdrop-e\\xa0\\\\n\\\\nRT please!\\\\n\\\\n#amanpuri #AMAL\\\\n#BTC #XRP #ETH \\\\n#cryptocurrency  \\\\n#China #bitcoin \\\\n#\\\\xe3\\\\x82\\\\xa2\\\\xe3\\\\x83\\\\x9e\\\\xe3\\\\x83\\\\xb3\\\\xe3\\\\x83\\\\x97\\\\xe3\\\\x83\\\\xaa\"]\n",
    "for tweet in s:\n",
    "    #print(re.sub(combined_pat2, ' ', tweet).lower())\n",
    "    print(re.sub(r'\\\\(n|x..)', '', tweet))\n",
    "    print('\\n')\n",
    "    print(re.sub(comb3, ' ', tweet).lower())"
   ]
  },
  {
   "cell_type": "markdown",
   "metadata": {},
   "source": [
    "**Clean all texts**"
   ]
  },
  {
   "cell_type": "markdown",
   "metadata": {},
   "source": [
    "re.sub() will clean up the text\n",
    "\n",
    "tweets.lower() - converting text to lowercase\n",
    "\n",
    "tweets.split() - splits the sentence by each word\n",
    "\n",
    "ps.stem() - converts the words to lowest degree and we also remove all the stopwords from the text (for example: this, that, etc)\n",
    "\n",
    "' '.join(tweets) - joins back the words to a sentence and separates them with a space"
   ]
  },
  {
   "cell_type": "code",
   "execution_count": 8,
   "metadata": {},
   "outputs": [
    {
     "name": "stderr",
     "output_type": "stream",
     "text": [
      "100%|██████████| 38266/38266 [04:22<00:00, 145.79it/s]\n"
     ]
    }
   ],
   "source": [
    "import re\n",
    "import nltk\n",
    "from tqdm import tqdm as tqdm\n",
    "#nltk.download('stopwords')\n",
    "# more info - https://www.nltk.org/\n",
    "\n",
    "from nltk.corpus import stopwords\n",
    "from nltk.stem.porter import PorterStemmer\n",
    "\n",
    "ps = PorterStemmer()\n",
    "cleaned_tweets = []\n",
    "\n",
    "for tweet in tqdm(dataset['text']) :\n",
    "    tweets = re.sub(comb3, ' ', tweet) \\\n",
    "            .lower() \\\n",
    "            .split()\n",
    "    tweets = [ps.stem(word) for word in tweets if not word in set(stopwords.words('english'))]\n",
    "    tweets = ' '.join(tweets)\n",
    "    cleaned_tweets.append(tweets)"
   ]
  },
  {
   "cell_type": "markdown",
   "metadata": {},
   "source": [
    "**Raw vs Cleaned text comparison**"
   ]
  },
  {
   "cell_type": "code",
   "execution_count": 9,
   "metadata": {},
   "outputs": [
    {
     "data": {
      "text/plain": [
       "['mainstream media scream bitcoin dead twitter troll take victori lap perceiv demis ponzi scheme fortun noth could truth see link adopt chart $btc fundament strengthen',\n",
       " 'friend problem buy bitcoin $7k way $20k panic sold loss dare invest $4k someth tell cycl repeat $40k $80k per $btc',\n",
       " 'pay ohio tax use bitcoin owe even tax btc increas valu use btc pay tax pay bad money fiat first keep sound money',\n",
       " 'bearableguy123 screen shot reddit binari code one retweet xrp xrpcommun crypto bitcoin btc pic twitter com mgjj1eshv',\n",
       " '$btc $btcusd bitcoin bull take profit everi small move wont get us anywher pic twitter com 6bktdbg2bl']"
      ]
     },
     "execution_count": 9,
     "metadata": {},
     "output_type": "execute_result"
    }
   ],
   "source": [
    "cleaned_tweets[:5]"
   ]
  },
  {
   "cell_type": "code",
   "execution_count": 10,
   "metadata": {},
   "outputs": [
    {
     "data": {
      "text/plain": [
       "['Mainstream media is screaming that \\\\xe2\\\\x80\\\\x9c#Bitcoin is dead!\\\\xe2\\\\x80\\\\x9d and the Twitter trolls are taking victory laps at the perceived demise of the \\\\xe2\\\\x80\\\\x9cponzi scheme.\\\\xe2\\\\x80\\\\x9d Fortunately, nothing could be further from the truth. - @APompliano\\\\n\\\\nSee link for adoption charts!\\\\n\\\\n$btc\\\\n\\\\nhttps://offthechain.substack.com/p/bitcoins-fundamentals-are-strengthening\\xa0\\\\xe2\\\\x80\\\\xa6',\n",
       " \"My friends had no problem buying #bitcoin at $7K all the way to $20K. Most of them have panic sold at a loss and now won\\\\'t dare to re-invest at $4K. Something tells me this cycle will repeat again at $40K to $80K per $BTC.  \",\n",
       " \"If you pay your Ohio taxes using #bitcoin then you owe even more taxes (if those btc have increased in value).\\\\n\\\\nDon\\\\'t use your btc to pay your taxes. Pay with your bad money (fiat) first and keep your sound money.\",\n",
       " 'Bearableguy123 screen shot on #Reddit \\\\n\\\\nBinary Code = ONE \\\\n\\\\nRetweet!! \\\\n\\\\n#XRP\\\\n#XRPCommunity\\\\n#Crypto\\\\n#Bitcoin \\\\n#BTC pic.twitter.com/MgJJ1EshvS',\n",
       " '$BTC $BTCUSD #Bitcoin \\\\n\\\\nBulls taking profit every small move wont get us anywhere. pic.twitter.com/6bktdBG2Bl']"
      ]
     },
     "execution_count": 10,
     "metadata": {},
     "output_type": "execute_result"
    }
   ],
   "source": [
    "dataset['text'][:5].tolist()"
   ]
  },
  {
   "cell_type": "code",
   "execution_count": 11,
   "metadata": {},
   "outputs": [],
   "source": [
    "dataset['cleaned_text'] = cleaned_tweets\n",
    "dataset.to_csv(re.sub('.csv','_cleaned.csv',FNAME), header=True, index=False, encoding='utf-8')"
   ]
  }
 ],
 "metadata": {
  "kernelspec": {
   "display_name": "Python 3",
   "language": "python",
   "name": "python3"
  },
  "language_info": {
   "codemirror_mode": {
    "name": "ipython",
    "version": 3
   },
   "file_extension": ".py",
   "mimetype": "text/x-python",
   "name": "python",
   "nbconvert_exporter": "python",
   "pygments_lexer": "ipython3",
   "version": "3.7.3rc1"
  },
  "toc": {
   "base_numbering": 1,
   "nav_menu": {},
   "number_sections": false,
   "sideBar": false,
   "skip_h1_title": false,
   "title_cell": "Table of Contents",
   "title_sidebar": "Contents",
   "toc_cell": false,
   "toc_position": {
    "height": "calc(100% - 180px)",
    "left": "10px",
    "top": "150px",
    "width": "273.2px"
   },
   "toc_section_display": false,
   "toc_window_display": false
  }
 },
 "nbformat": 4,
 "nbformat_minor": 1
}
