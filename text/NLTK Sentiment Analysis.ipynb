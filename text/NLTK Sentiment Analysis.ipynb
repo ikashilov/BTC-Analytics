{
 "cells": [
  {
   "cell_type": "markdown",
   "metadata": {},
   "source": [
    "### Bag of words sentiment analysis on the financial tweets"
   ]
  },
  {
   "cell_type": "code",
   "execution_count": 1,
   "metadata": {},
   "outputs": [
    {
     "data": {
      "text/html": [
       "<div>\n",
       "<style scoped>\n",
       "    .dataframe tbody tr th:only-of-type {\n",
       "        vertical-align: middle;\n",
       "    }\n",
       "\n",
       "    .dataframe tbody tr th {\n",
       "        vertical-align: top;\n",
       "    }\n",
       "\n",
       "    .dataframe thead th {\n",
       "        text-align: right;\n",
       "    }\n",
       "</style>\n",
       "<table border=\"1\" class=\"dataframe\">\n",
       "  <thead>\n",
       "    <tr style=\"text-align: right;\">\n",
       "      <th></th>\n",
       "      <th>date</th>\n",
       "      <th>text</th>\n",
       "      <th>likes</th>\n",
       "      <th>retweets</th>\n",
       "      <th>cleaned_text</th>\n",
       "    </tr>\n",
       "  </thead>\n",
       "  <tbody>\n",
       "    <tr>\n",
       "      <th>0</th>\n",
       "      <td>2018-12-01 15:13:48</td>\n",
       "      <td>Mainstream media is screaming that \\xe2\\x80\\x9...</td>\n",
       "      <td>373</td>\n",
       "      <td>106</td>\n",
       "      <td>mainstream media scream bitcoin dead twitter t...</td>\n",
       "    </tr>\n",
       "    <tr>\n",
       "      <th>1</th>\n",
       "      <td>2018-12-01 22:59:36</td>\n",
       "      <td>My friends had no problem buying #bitcoin at $...</td>\n",
       "      <td>684</td>\n",
       "      <td>101</td>\n",
       "      <td>friend problem buy bitcoin $7k way $20k panic ...</td>\n",
       "    </tr>\n",
       "    <tr>\n",
       "      <th>2</th>\n",
       "      <td>2018-12-01 15:19:30</td>\n",
       "      <td>If you pay your Ohio taxes using #bitcoin then...</td>\n",
       "      <td>518</td>\n",
       "      <td>52</td>\n",
       "      <td>pay ohio tax use bitcoin owe even tax btc incr...</td>\n",
       "    </tr>\n",
       "    <tr>\n",
       "      <th>3</th>\n",
       "      <td>2018-12-01 18:57:06</td>\n",
       "      <td>Bearableguy123 screen shot on #Reddit \\n\\nBina...</td>\n",
       "      <td>100</td>\n",
       "      <td>39</td>\n",
       "      <td>bearableguy123 screen shot reddit binari code ...</td>\n",
       "    </tr>\n",
       "    <tr>\n",
       "      <th>4</th>\n",
       "      <td>2018-12-01 13:57:04</td>\n",
       "      <td>$BTC $BTCUSD #Bitcoin \\n\\nBulls taking profit ...</td>\n",
       "      <td>66</td>\n",
       "      <td>8</td>\n",
       "      <td>$btc $btcusd bitcoin bull take profit everi sm...</td>\n",
       "    </tr>\n",
       "  </tbody>\n",
       "</table>\n",
       "</div>"
      ],
      "text/plain": [
       "                  date                                               text  \\\n",
       "0  2018-12-01 15:13:48  Mainstream media is screaming that \\xe2\\x80\\x9...   \n",
       "1  2018-12-01 22:59:36  My friends had no problem buying #bitcoin at $...   \n",
       "2  2018-12-01 15:19:30  If you pay your Ohio taxes using #bitcoin then...   \n",
       "3  2018-12-01 18:57:06  Bearableguy123 screen shot on #Reddit \\n\\nBina...   \n",
       "4  2018-12-01 13:57:04  $BTC $BTCUSD #Bitcoin \\n\\nBulls taking profit ...   \n",
       "\n",
       "   likes  retweets                                       cleaned_text  \n",
       "0    373       106  mainstream media scream bitcoin dead twitter t...  \n",
       "1    684       101  friend problem buy bitcoin $7k way $20k panic ...  \n",
       "2    518        52  pay ohio tax use bitcoin owe even tax btc incr...  \n",
       "3    100        39  bearableguy123 screen shot reddit binari code ...  \n",
       "4     66         8  $btc $btcusd bitcoin bull take profit everi sm...  "
      ]
     },
     "execution_count": 1,
     "metadata": {},
     "output_type": "execute_result"
    }
   ],
   "source": [
    "import re\n",
    "import numpy as np\n",
    "import pandas as pd\n",
    "import matplotlib.pyplot as plt\n",
    "\n",
    "np.random.seed(0)\n",
    "\n",
    "FNAME = \"./data/btc_year_full.csv\"\n",
    "\n",
    "dataset = pd.read_csv(re.sub('.csv','_cleaned.csv', FNAME))\n",
    "dataset.head()"
   ]
  },
  {
   "cell_type": "markdown",
   "metadata": {},
   "source": [
    "**Finding Polarity**\n",
    "\n",
    "To find the polarity we use the **SentimentIntensityAnalyzer** from **nltk.sentiment.vader**"
   ]
  },
  {
   "cell_type": "code",
   "execution_count": 2,
   "metadata": {},
   "outputs": [
    {
     "name": "stdout",
     "output_type": "stream",
     "text": [
      "\"mainstream media scream bitcoin dead twitter troll take victori lap perceiv demis ponzi scheme fortun noth could truth see link adopt chart $btc fundament strengthen\"\n",
      "\tcompound: -0.4019, \n",
      "\tneg: 0.21, \n",
      "\tneu: 0.601, \n",
      "\tpos: 0.189, \n",
      "\n",
      "\"friend problem buy bitcoin $7k way $20k panic sold loss dare invest $4k someth tell cycl repeat $40k $80k per $btc\"\n",
      "\tcompound: -0.6249, \n",
      "\tneg: 0.291, \n",
      "\tneu: 0.596, \n",
      "\tpos: 0.112, \n",
      "\n",
      "\"pay ohio tax use bitcoin owe even tax btc increas valu use btc pay tax pay bad money fiat first keep sound money\"\n",
      "\tcompound: -0.6908, \n",
      "\tneg: 0.288, \n",
      "\tneu: 0.712, \n",
      "\tpos: 0.0, \n",
      "\n"
     ]
    }
   ],
   "source": [
    "#nltk.download('vader_lexicon')\n",
    "\n",
    "from nltk.sentiment.vader import SentimentIntensityAnalyzer\n",
    "\n",
    "sia = SentimentIntensityAnalyzer()\n",
    "\n",
    "cleaned_tweets = dataset['cleaned_text']\n",
    "for tweet in cleaned_tweets[:3]:\n",
    "    print('\"'+tweet+'\"')\n",
    "    s = sia.polarity_scores(tweet)\n",
    "    for k in sorted(s):\n",
    "        print('\\t{0}: {1}, '.format(k, s[k]), end='')\n",
    "        print()\n",
    "    print()"
   ]
  },
  {
   "cell_type": "markdown",
   "metadata": {},
   "source": [
    "Now, based on the 'compound' polarity score and the knowledge of the data, we can choose which tweet falls in the categories of Positive, Negative and Neutral"
   ]
  },
  {
   "cell_type": "code",
   "execution_count": 9,
   "metadata": {},
   "outputs": [],
   "source": [
    "def findpolarity(data, neutrality=False):\n",
    "    sid = SentimentIntensityAnalyzer()\n",
    "    polarity = sid.polarity_scores(data)\n",
    "    if neutrality:\n",
    "        if polarity['compound'] >= 0.2:  \n",
    "            sentiment = 1\n",
    "        elif polarity['compound'] <= -0.2:\n",
    "            sentiment = -1 \n",
    "        else:\n",
    "            sentiment = 0\n",
    "    else:\n",
    "        return 1 if polarity['compound'] > 0 else -1\n",
    "    \n",
    "    return sentiment"
   ]
  },
  {
   "cell_type": "markdown",
   "metadata": {},
   "source": [
    "*Example*"
   ]
  },
  {
   "cell_type": "code",
   "execution_count": 10,
   "metadata": {},
   "outputs": [
    {
     "name": "stdout",
     "output_type": "stream",
     "text": [
      "Raw: \n",
      "Tweet:  The 16th MAFIACASH Distribution has been completed! https://mafiawars.io/news/mafiacash-distribution-16 \\xe2\\x80\\xa6 Check out the Mafia Wars game at https://mafiawars.io  to start earning MAFIACASH today! #MafiaWars #MafiaCash #Bitcoin #BTC #Counterparty #XCP #BlockchainGamingpic.twitter.com/eE1skh0qHS\n",
      "Polarity:  -1\n",
      "\n",
      "Cleaned: \n",
      "Tweet:  16th mafiacash distribut complet distribut 16 check mafia war game start earn mafiacash today mafiawar mafiacash bitcoin btc counterparti xcp blockchaingamingp twitter com ee1skh0qh\n",
      "Polarity:  -1\n"
     ]
    }
   ],
   "source": [
    "raw_tweets = dataset['text']\n",
    "idx = np.random.randint(0, len(raw_tweets))\n",
    "\n",
    "print(\"Raw: \")\n",
    "print(\"Tweet: \", raw_tweets[idx])\n",
    "print(\"Polarity: \", findpolarity(raw_tweets[idx]))\n",
    "print()\n",
    "print(\"Cleaned: \")\n",
    "print(\"Tweet: \", cleaned_tweets[idx])\n",
    "print(\"Polarity: \", findpolarity(cleaned_tweets[idx]))"
   ]
  },
  {
   "cell_type": "markdown",
   "metadata": {},
   "source": [
    "Find polarity for cleaned tweets"
   ]
  },
  {
   "cell_type": "code",
   "execution_count": 6,
   "metadata": {},
   "outputs": [
    {
     "name": "stderr",
     "output_type": "stream",
     "text": [
      "100%|██████████| 38266/38266 [06:50<00:00, 93.12it/s] \n"
     ]
    }
   ],
   "source": [
    "from tqdm import tqdm\n",
    "\n",
    "sentiment_cleaned = []\n",
    "for i in tqdm(range(0, len(cleaned_tweets))):\n",
    "    s = findpolarity(cleaned_tweets[i])\n",
    "    sentiment_cleaned.append(s)"
   ]
  },
  {
   "cell_type": "markdown",
   "metadata": {},
   "source": [
    "Find polarity for raw tweets"
   ]
  },
  {
   "cell_type": "code",
   "execution_count": 7,
   "metadata": {},
   "outputs": [
    {
     "name": "stderr",
     "output_type": "stream",
     "text": [
      "100%|██████████| 38266/38266 [07:41<00:00, 82.98it/s] \n"
     ]
    }
   ],
   "source": [
    "sentiment_raw = []\n",
    "for i in tqdm(range(0, len(raw_tweets))):\n",
    "    s = findpolarity(raw_tweets[i])\n",
    "    sentiment_raw.append(s)"
   ]
  },
  {
   "cell_type": "code",
   "execution_count": 8,
   "metadata": {},
   "outputs": [
    {
     "name": "stdout",
     "output_type": "stream",
     "text": [
      "Total 7623 sentiments ain't equal from 38266. The ratio is: 0.199\n"
     ]
    }
   ],
   "source": [
    "assert len(cleaned_tweets) == len(dataset['text'])\n",
    "_n = len(raw_tweets)\n",
    "_s = 0\n",
    "for i in range(_n):\n",
    "    if sentiment_cleaned[i] != sentiment_raw[i]:\n",
    "        _s+=1\n",
    "print(\"Total {} sentiments ain't equal from {}. The ratio is: {}\".format(_s, _n, round(_s/_n, 3)))"
   ]
  },
  {
   "cell_type": "markdown",
   "metadata": {},
   "source": [
    "We create a new dataframe to store the cleaned tweets and their respective polarities and save them to a .csv file"
   ]
  },
  {
   "cell_type": "code",
   "execution_count": 9,
   "metadata": {},
   "outputs": [
    {
     "data": {
      "text/html": [
       "<div>\n",
       "<style scoped>\n",
       "    .dataframe tbody tr th:only-of-type {\n",
       "        vertical-align: middle;\n",
       "    }\n",
       "\n",
       "    .dataframe tbody tr th {\n",
       "        vertical-align: top;\n",
       "    }\n",
       "\n",
       "    .dataframe thead th {\n",
       "        text-align: right;\n",
       "    }\n",
       "</style>\n",
       "<table border=\"1\" class=\"dataframe\">\n",
       "  <thead>\n",
       "    <tr style=\"text-align: right;\">\n",
       "      <th></th>\n",
       "      <th>date</th>\n",
       "      <th>text</th>\n",
       "      <th>likes</th>\n",
       "      <th>retweets</th>\n",
       "      <th>cleaned_text</th>\n",
       "      <th>sentiment_cl</th>\n",
       "      <th>sentiment_raw</th>\n",
       "    </tr>\n",
       "  </thead>\n",
       "  <tbody>\n",
       "    <tr>\n",
       "      <th>0</th>\n",
       "      <td>2018-12-01 15:13:48</td>\n",
       "      <td>Mainstream media is screaming that \\xe2\\x80\\x9...</td>\n",
       "      <td>373</td>\n",
       "      <td>106</td>\n",
       "      <td>mainstream media scream bitcoin dead twitter t...</td>\n",
       "      <td>-1</td>\n",
       "      <td>-1</td>\n",
       "    </tr>\n",
       "    <tr>\n",
       "      <th>1</th>\n",
       "      <td>2018-12-01 22:59:36</td>\n",
       "      <td>My friends had no problem buying #bitcoin at $...</td>\n",
       "      <td>684</td>\n",
       "      <td>101</td>\n",
       "      <td>friend problem buy bitcoin $7k way $20k panic ...</td>\n",
       "      <td>-1</td>\n",
       "      <td>-1</td>\n",
       "    </tr>\n",
       "    <tr>\n",
       "      <th>2</th>\n",
       "      <td>2018-12-01 15:19:30</td>\n",
       "      <td>If you pay your Ohio taxes using #bitcoin then...</td>\n",
       "      <td>518</td>\n",
       "      <td>52</td>\n",
       "      <td>pay ohio tax use bitcoin owe even tax btc incr...</td>\n",
       "      <td>-1</td>\n",
       "      <td>-1</td>\n",
       "    </tr>\n",
       "    <tr>\n",
       "      <th>3</th>\n",
       "      <td>2018-12-01 18:57:06</td>\n",
       "      <td>Bearableguy123 screen shot on #Reddit \\n\\nBina...</td>\n",
       "      <td>100</td>\n",
       "      <td>39</td>\n",
       "      <td>bearableguy123 screen shot reddit binari code ...</td>\n",
       "      <td>0</td>\n",
       "      <td>0</td>\n",
       "    </tr>\n",
       "    <tr>\n",
       "      <th>4</th>\n",
       "      <td>2018-12-01 13:57:04</td>\n",
       "      <td>$BTC $BTCUSD #Bitcoin \\n\\nBulls taking profit ...</td>\n",
       "      <td>66</td>\n",
       "      <td>8</td>\n",
       "      <td>$btc $btcusd bitcoin bull take profit everi sm...</td>\n",
       "      <td>1</td>\n",
       "      <td>1</td>\n",
       "    </tr>\n",
       "  </tbody>\n",
       "</table>\n",
       "</div>"
      ],
      "text/plain": [
       "                  date                                               text  \\\n",
       "0  2018-12-01 15:13:48  Mainstream media is screaming that \\xe2\\x80\\x9...   \n",
       "1  2018-12-01 22:59:36  My friends had no problem buying #bitcoin at $...   \n",
       "2  2018-12-01 15:19:30  If you pay your Ohio taxes using #bitcoin then...   \n",
       "3  2018-12-01 18:57:06  Bearableguy123 screen shot on #Reddit \\n\\nBina...   \n",
       "4  2018-12-01 13:57:04  $BTC $BTCUSD #Bitcoin \\n\\nBulls taking profit ...   \n",
       "\n",
       "   likes  retweets                                       cleaned_text  \\\n",
       "0    373       106  mainstream media scream bitcoin dead twitter t...   \n",
       "1    684       101  friend problem buy bitcoin $7k way $20k panic ...   \n",
       "2    518        52  pay ohio tax use bitcoin owe even tax btc incr...   \n",
       "3    100        39  bearableguy123 screen shot reddit binari code ...   \n",
       "4     66         8  $btc $btcusd bitcoin bull take profit everi sm...   \n",
       "\n",
       "   sentiment_cl  sentiment_raw  \n",
       "0            -1             -1  \n",
       "1            -1             -1  \n",
       "2            -1             -1  \n",
       "3             0              0  \n",
       "4             1              1  "
      ]
     },
     "execution_count": 9,
     "metadata": {},
     "output_type": "execute_result"
    }
   ],
   "source": [
    "dataset['sentiment_cl'] = sentiment_cleaned\n",
    "dataset['sentiment_raw'] = sentiment_raw\n",
    "dataset.to_csv(re.sub('.csv','_sentiments.csv',FNAME), header=True, index=False, encoding='utf-8')\n",
    "dataset.head()"
   ]
  }
 ],
 "metadata": {
  "kernelspec": {
   "display_name": "Python 3",
   "language": "python",
   "name": "python3"
  },
  "language_info": {
   "codemirror_mode": {
    "name": "ipython",
    "version": 3
   },
   "file_extension": ".py",
   "mimetype": "text/x-python",
   "name": "python",
   "nbconvert_exporter": "python",
   "pygments_lexer": "ipython3",
   "version": "3.7.3rc1"
  },
  "toc": {
   "base_numbering": 1,
   "nav_menu": {},
   "number_sections": false,
   "sideBar": false,
   "skip_h1_title": false,
   "title_cell": "Table of Contents",
   "title_sidebar": "Contents",
   "toc_cell": false,
   "toc_position": {
    "height": "calc(100% - 180px)",
    "left": "10px",
    "top": "150px",
    "width": "273.2px"
   },
   "toc_section_display": false,
   "toc_window_display": false
  }
 },
 "nbformat": 4,
 "nbformat_minor": 1
}
